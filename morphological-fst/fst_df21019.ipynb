{
  "nbformat": 4,
  "nbformat_minor": 0,
  "metadata": {
    "colab": {
      "provenance": []
    },
    "kernelspec": {
      "name": "python3",
      "display_name": "Python 3"
    },
    "language_info": {
      "name": "python"
    }
  },
  "cells": [
    {
      "cell_type": "code",
      "execution_count": 83,
      "metadata": {
        "id": "JvZmkC22DRoF",
        "colab": {
          "base_uri": "https://localhost:8080/"
        },
        "outputId": "af38a0c6-0622-404f-ee6c-d35745923cfa"
      },
      "outputs": [
        {
          "output_type": "stream",
          "name": "stdout",
          "text": [
            "Requirement already satisfied: hfst in /usr/local/lib/python3.11/dist-packages (3.16.0.1)\n"
          ]
        }
      ],
      "source": [
        "!pip install hfst"
      ]
    },
    {
      "cell_type": "code",
      "source": [
        "!wget https://raw.githubusercontent.com/dfjod/language-technology-basics/refs/heads/main/morphological-fst/lexicon.lexc"
      ],
      "metadata": {
        "id": "8yAMyZ_H3Nsg",
        "colab": {
          "base_uri": "https://localhost:8080/"
        },
        "outputId": "6f753dd1-4993-436b-b809-1915b9a52b48"
      },
      "execution_count": 78,
      "outputs": [
        {
          "output_type": "stream",
          "name": "stdout",
          "text": [
            "--2025-04-01 07:37:12--  https://raw.githubusercontent.com/dfjod/language-technology-basics/refs/heads/main/morphological-fst/lexicon.lexc\n",
            "Resolving raw.githubusercontent.com (raw.githubusercontent.com)... 185.199.110.133, 185.199.108.133, 185.199.111.133, ...\n",
            "Connecting to raw.githubusercontent.com (raw.githubusercontent.com)|185.199.110.133|:443... connected.\n",
            "HTTP request sent, awaiting response... 200 OK\n",
            "Length: 1231 (1.2K) [text/plain]\n",
            "Saving to: ‘lexicon.lexc’\n",
            "\n",
            "lexicon.lexc        100%[===================>]   1.20K  --.-KB/s    in 0s      \n",
            "\n",
            "2025-04-01 07:37:12 (51.4 MB/s) - ‘lexicon.lexc’ saved [1231/1231]\n",
            "\n"
          ]
        }
      ]
    },
    {
      "cell_type": "code",
      "source": [
        "import hfst"
      ],
      "metadata": {
        "id": "DpH2r6DZE6fz"
      },
      "execution_count": 71,
      "outputs": []
    },
    {
      "cell_type": "code",
      "source": [
        "# noun declension\n",
        "lexicon = hfst.compile_lexc_file('lexicon.lexc')\n",
        "transducer = hfst.HfstTransducer(lexicon)"
      ],
      "metadata": {
        "id": "wt0q_Z92E_k2"
      },
      "execution_count": 106,
      "outputs": []
    },
    {
      "cell_type": "code",
      "source": [
        "# 2nd declension noun replacement rule\n",
        "replacement_rule_z = hfst.regex('z -> ž || _ \"^\" a')\n",
        "\n",
        "# insertion rule for the word \"zivs\" in PL, GEN\n",
        "insert_j = hfst.regex('[..] -> j || _ \"^\"u')"
      ],
      "metadata": {
        "id": "2UU6crEfLzOZ"
      },
      "execution_count": 107,
      "outputs": []
    },
    {
      "cell_type": "code",
      "source": [
        "composed = hfst.compose((transducer, replacement_rule_z, insert_j))"
      ],
      "metadata": {
        "id": "XS4aRzYzg0xP"
      },
      "execution_count": 108,
      "outputs": []
    },
    {
      "cell_type": "code",
      "source": [
        "for result in insert_j.lookup(\"ziv^u\"):\n",
        "  print(result)"
      ],
      "metadata": {
        "colab": {
          "base_uri": "https://localhost:8080/"
        },
        "id": "n_xREJJoc3Ii",
        "outputId": "ecd2162b-3746-4d70-914f-a27300c57333"
      },
      "execution_count": 109,
      "outputs": [
        {
          "output_type": "stream",
          "name": "stdout",
          "text": [
            "('zivj^u', 0.0)\n"
          ]
        }
      ]
    },
    {
      "cell_type": "code",
      "source": [
        "# print results\n",
        "for noun in [\"modem\", \"dator\", \"servis\", \"server\", \"ķēķ\", \"skrūvgriez\", \"maģij\", \"implementācij\", \"anten\", \"ziv\"]:\n",
        "    for number in [\"Sg\", \"Pl\"]:\n",
        "        for form in [\"Nom\", \"Gen\", \"Dat\", \"Acc\", \"Loc\"]:\n",
        "            print(noun + \"+N+\" + number + \"+\" + form + \" - \" + composed.lookup(noun + \"+N+\" + number + \"+\" + form)[0][0].replace(\"@_EPSILON_SYMBOL_@\", \"\").replace(\"^\", \"\"))"
      ],
      "metadata": {
        "colab": {
          "base_uri": "https://localhost:8080/"
        },
        "collapsed": true,
        "id": "g3ak34zYICWI",
        "outputId": "5d69bb17-3df1-42b6-de3a-7cac7f003098"
      },
      "execution_count": 110,
      "outputs": [
        {
          "output_type": "stream",
          "name": "stdout",
          "text": [
            "modem+N+Sg+Nom - modems\n",
            "modem+N+Sg+Gen - modema\n",
            "modem+N+Sg+Dat - modemam\n",
            "modem+N+Sg+Acc - modemju\n",
            "modem+N+Sg+Loc - modemā\n",
            "modem+N+Pl+Nom - modemi\n",
            "modem+N+Pl+Gen - modemju\n",
            "modem+N+Pl+Dat - modemiem\n",
            "modem+N+Pl+Acc - modemjus\n",
            "modem+N+Pl+Loc - modemos\n",
            "dator+N+Sg+Nom - dators\n",
            "dator+N+Sg+Gen - datora\n",
            "dator+N+Sg+Dat - datoram\n",
            "dator+N+Sg+Acc - datorju\n",
            "dator+N+Sg+Loc - datorā\n",
            "dator+N+Pl+Nom - datori\n",
            "dator+N+Pl+Gen - datorju\n",
            "dator+N+Pl+Dat - datoriem\n",
            "dator+N+Pl+Acc - datorjus\n",
            "dator+N+Pl+Loc - datoros\n",
            "servis+N+Sg+Nom - serviss\n",
            "servis+N+Sg+Gen - servisa\n",
            "servis+N+Sg+Dat - servisam\n",
            "servis+N+Sg+Acc - servisju\n",
            "servis+N+Sg+Loc - servisā\n",
            "servis+N+Pl+Nom - servisi\n",
            "servis+N+Pl+Gen - servisju\n",
            "servis+N+Pl+Dat - servisiem\n",
            "servis+N+Pl+Acc - servisjus\n",
            "servis+N+Pl+Loc - servisos\n",
            "server+N+Sg+Nom - serveris\n",
            "server+N+Sg+Gen - servera\n",
            "server+N+Sg+Dat - serverim\n",
            "server+N+Sg+Acc - serveri\n",
            "server+N+Sg+Loc - serverī\n",
            "server+N+Pl+Nom - serveri\n",
            "server+N+Pl+Gen - serverju\n",
            "server+N+Pl+Dat - serveriem\n",
            "server+N+Pl+Acc - serverjus\n",
            "server+N+Pl+Loc - serveros\n",
            "ķēķ+N+Sg+Nom - ķēķis\n",
            "ķēķ+N+Sg+Gen - ķēķa\n",
            "ķēķ+N+Sg+Dat - ķēķim\n",
            "ķēķ+N+Sg+Acc - ķēķi\n",
            "ķēķ+N+Sg+Loc - ķēķī\n",
            "ķēķ+N+Pl+Nom - ķēķi\n",
            "ķēķ+N+Pl+Gen - ķēķju\n",
            "ķēķ+N+Pl+Dat - ķēķiem\n",
            "ķēķ+N+Pl+Acc - ķēķjus\n",
            "ķēķ+N+Pl+Loc - ķēķos\n",
            "skrūvgriez+N+Sg+Nom - skrūvgriezis\n",
            "skrūvgriez+N+Sg+Gen - skrūvgrieža\n",
            "skrūvgriez+N+Sg+Dat - skrūvgriezim\n",
            "skrūvgriez+N+Sg+Acc - skrūvgriezi\n",
            "skrūvgriez+N+Sg+Loc - skrūvgriezī\n",
            "skrūvgriez+N+Pl+Nom - skrūvgriezi\n",
            "skrūvgriez+N+Pl+Gen - skrūvgriezju\n",
            "skrūvgriez+N+Pl+Dat - skrūvgrieziem\n",
            "skrūvgriez+N+Pl+Acc - skrūvgriezjus\n",
            "skrūvgriez+N+Pl+Loc - skrūvgriezos\n",
            "maģij+N+Sg+Nom - maģija\n",
            "maģij+N+Sg+Gen - maģijas\n",
            "maģij+N+Sg+Dat - maģijai\n",
            "maģij+N+Sg+Acc - maģijju\n",
            "maģij+N+Sg+Loc - maģijā\n",
            "maģij+N+Pl+Nom - maģijas\n",
            "maģij+N+Pl+Gen - maģijju\n",
            "maģij+N+Pl+Dat - maģijām\n",
            "maģij+N+Pl+Acc - maģijas\n",
            "maģij+N+Pl+Loc - maģijās\n",
            "implementācij+N+Sg+Nom - implementācija\n",
            "implementācij+N+Sg+Gen - implementācijas\n",
            "implementācij+N+Sg+Dat - implementācijai\n",
            "implementācij+N+Sg+Acc - implementācijju\n",
            "implementācij+N+Sg+Loc - implementācijā\n",
            "implementācij+N+Pl+Nom - implementācijas\n",
            "implementācij+N+Pl+Gen - implementācijju\n",
            "implementācij+N+Pl+Dat - implementācijām\n",
            "implementācij+N+Pl+Acc - implementācijas\n",
            "implementācij+N+Pl+Loc - implementācijās\n",
            "anten+N+Sg+Nom - antena\n",
            "anten+N+Sg+Gen - antenas\n",
            "anten+N+Sg+Dat - antenai\n",
            "anten+N+Sg+Acc - antenju\n",
            "anten+N+Sg+Loc - antenā\n",
            "anten+N+Pl+Nom - antenas\n",
            "anten+N+Pl+Gen - antenju\n",
            "anten+N+Pl+Dat - antenām\n",
            "anten+N+Pl+Acc - antenas\n",
            "anten+N+Pl+Loc - antenās\n",
            "ziv+N+Sg+Nom - zivs\n",
            "ziv+N+Sg+Gen - zivs\n",
            "ziv+N+Sg+Dat - zivij\n",
            "ziv+N+Sg+Acc - zivi\n",
            "ziv+N+Sg+Loc - zivī\n",
            "ziv+N+Pl+Nom - zivis\n",
            "ziv+N+Pl+Gen - zivju\n",
            "ziv+N+Pl+Dat - zivīm\n",
            "ziv+N+Pl+Acc - zivis\n",
            "ziv+N+Pl+Loc - zivīs\n"
          ]
        }
      ]
    }
  ]
}